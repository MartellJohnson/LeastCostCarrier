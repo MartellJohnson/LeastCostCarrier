{
 "cells": [
  {
   "cell_type": "markdown",
   "id": "0870b73e",
   "metadata": {},
   "source": [
    "# 🚛 Power BI Dashboard: Least Cost Carrier (LCC) Freight Optimization"
   ]
  },
  {
   "cell_type": "markdown",
   "id": "b4cb56f2",
   "metadata": {},
   "source": [
    "## 📘 Overview\n",
    "This Power BI solution helps identify least-cost freight carriers across customer shipments by comparing actual shipping costs with optimized LCC recommendations. The goal is to drive cost savings and increase visibility into freight spend by carrier, destination, and order."
   ]
  },
  {
   "cell_type": "markdown",
   "id": "72adfbb1",
   "metadata": {},
   "source": [
    "## 🧩 Project Architecture\n",
    "- **DALCO_DATA**: Ingested from distributor `.CSV` files dropped via FTP → loaded into Azure Data Lake → cleaned and appended to Power BI via the `DALCO_DATA` table.\n",
    "- **LCC_DATA**: Contains LCC recommendations and optimized cost data. Used for calculating savings potential.\n",
    "- **CUST_CUST_PO**: Pulled directly from Global Shop ERP (Pervasive v13 SQL Server) and joined via `CARRIER_CD`."
   ]
  },
  {
   "cell_type": "markdown",
   "id": "dd79a225",
   "metadata": {},
   "source": [
    "## 🔄 Data Flow Summary\n",
    "1. Distributor sends CSV to FTP\n",
    "2. Automated process loads CSV into Data Lake\n",
    "3. Data is cleaned and stored in `DALCO_DATA`\n",
    "4. `LCC_DATA` and `CUST_CUST_PO` tables joined via relationships\n",
    "5. Power BI data model combines all sources for analysis and visuals"
   ]
  },
  {
   "cell_type": "markdown",
   "id": "e4aa1a08",
   "metadata": {},
   "source": [
    "## 📊 Key Dashboard Features\n",
    "- **Least Cost Carrier Opportunity Gauge**: Breakdown of shipments where savings were possible vs. not.\n",
    "- **Treemap of Savings by LCC Carrier**: Identifies top carriers offering the most savings (e.g., USF Holland, R&L).\n",
    "- **Geo Map**: Destination-based view of savings opportunities across North America and Europe.\n",
    "- **Savings Table**: Row-level detail of freight spend, total cost, optimized cost, and savings per shipment."
   ]
  },
  {
   "cell_type": "markdown",
   "id": "53c08019",
   "metadata": {},
   "source": [
    "## 💡 Business Value\n",
    "- $109K+ in potential savings identified across active shipments.\n",
    "- Improved visibility into carrier selection and freight cost patterns.\n",
    "- Actionable insights for logistics and procurement teams to renegotiate carrier contracts and shipping methods.\n",
    "- Automated data flow reduces manual updates and ensures data accuracy."
   ]
  },
  {
   "cell_type": "markdown",
   "id": "4faa4505",
   "metadata": {},
   "source": [
    "## 🔧 Tech Stack\n",
    "| Layer        | Tools/Platforms |\n",
    "|--------------|-----------------|\n",
    "| Data Source  | CSV (FTP), SQL (Pervasive v13) |\n",
    "| Storage      | Azure Data Lake |\n",
    "| ETL/Modeling | Power Query (in Power BI) |\n",
    "| BI Layer     | Power BI Desktop |\n",
    "| Automation   | FTP Trigger → Lake Load Process |"
   ]
  },
  {
   "cell_type": "markdown",
   "id": "44386f13",
   "metadata": {},
   "source": [
    "## 📂 Data Tables\n",
    "| Table         | Description |\n",
    "|---------------|-------------|\n",
    "| `DALCO_DATA`  | Freight-level detail from CSV files |\n",
    "| `LCC_DATA`    | Least Cost Carrier recommendations and savings |\n",
    "| `CUST_CUST_PO`| Customer PO and shipping records from ERP |"
   ]
  },
  {
   "cell_type": "markdown",
   "id": "3750f1f1",
   "metadata": {},
   "source": [
    "## 📌 Next Steps\n",
    "- Integrate carrier API feeds for real-time LCC validation\n",
    "- Add KPI scorecard for % of shipments using LCC\n",
    "- Automate full ETL pipeline using Azure Data Factory"
   ]
  },
  {
   "cell_type": "markdown",
   "id": "1fcd8830",
   "metadata": {},
   "source": [
    "## 🧠 SQL Queries: Freight Optimization & GSS Data Extraction"
   ]
  },
  {
   "cell_type": "markdown",
   "id": "9e72a311",
   "metadata": {},
   "source": [
    "### 1️⃣ Freight Spend & LCC Comparison by Order\n",
    "This query pulls order-level shipping data and compares actual freight costs to optimized least-cost carrier values."
   ]
  },
  {
   "cell_type": "code",
   "execution_count": null,
   "id": "3096683d",
   "metadata": {},
   "outputs": [],
   "source": [
    "-- Freight spend and least-cost comparison by carrier and order\n",
    "SELECT\n",
    "    po.ord_no AS order_number,\n",
    "    po.customer AS customer_code,\n",
    "    po.ship_via AS ship_method,\n",
    "    po.carrier_cd AS carrier_used,\n",
    "    lcc.lcc_carrier AS least_cost_carrier,\n",
    "    po.date_order AS order_date,\n",
    "    po.date_shipped,\n",
    "    po.destination_city,\n",
    "    po.destination_state,\n",
    "    lcc.total_cost_carrier AS actual_cost,\n",
    "    lcc.lcc_total_cost AS optimized_cost,\n",
    "    (lcc.total_cost_carrier - lcc.lcc_total_cost) AS potential_savings,\n",
    "    CASE \n",
    "        WHEN lcc.total_cost_carrier > lcc.lcc_total_cost THEN 'Yes'\n",
    "        ELSE 'No'\n",
    "    END AS lcc_opportunity\n",
    "FROM\n",
    "    CUST_CUST_PO po\n",
    "LEFT JOIN\n",
    "    LCC_DATA lcc\n",
    "    ON po.ord_no = lcc.order_no\n",
    "WHERE\n",
    "    po.date_order >= '2025-01-01'\n",
    "ORDER BY\n",
    "    potential_savings DESC;"
   ]
  },
  {
   "cell_type": "markdown",
   "id": "24076106",
   "metadata": {},
   "source": [
    "### 2️⃣ Aggregate Savings by Carrier\n",
    "This query summarizes potential savings by least-cost carrier."
   ]
  },
  {
   "cell_type": "code",
   "execution_count": null,
   "id": "d273b103",
   "metadata": {},
   "outputs": [],
   "source": [
    "-- Aggregate potential savings by LCC carrier\n",
    "SELECT\n",
    "    lcc.lcc_carrier,\n",
    "    COUNT(*) AS total_shipments,\n",
    "    SUM(lcc.total_cost_carrier - lcc.lcc_total_cost) AS total_savings,\n",
    "    AVG(lcc.total_cost_carrier - lcc.lcc_total_cost) AS avg_savings_per_shipment\n",
    "FROM\n",
    "    LCC_DATA lcc\n",
    "INNER JOIN\n",
    "    CUST_CUST_PO po\n",
    "    ON lcc.order_no = po.ord_no\n",
    "WHERE\n",
    "    lcc.total_cost_carrier > lcc.lcc_total_cost\n",
    "GROUP BY\n",
    "    lcc.lcc_carrier\n",
    "ORDER BY\n",
    "    total_savings DESC;"
   ]
  },
  {
   "cell_type": "markdown",
   "id": "5bd66dd7",
   "metadata": {},
   "source": [
    "### 3️⃣ City-Level Freight Optimization\n",
    "This pulls savings summaries by shipping destination."
   ]
  },
  {
   "cell_type": "code",
   "execution_count": null,
   "id": "260754f0",
   "metadata": {},
   "outputs": [],
   "source": [
    "-- Savings by destination city\n",
    "SELECT\n",
    "    po.destination_city,\n",
    "    COUNT(*) AS total_orders,\n",
    "    SUM(lcc.total_cost_carrier - lcc.lcc_total_cost) AS city_savings\n",
    "FROM\n",
    "    LCC_DATA lcc\n",
    "JOIN\n",
    "    CUST_CUST_PO po\n",
    "    ON lcc.order_no = po.ord_no\n",
    "WHERE\n",
    "    lcc.total_cost_carrier > lcc.lcc_total_cost\n",
    "GROUP BY\n",
    "    po.destination_city\n",
    "ORDER BY\n",
    "    city_savings DESC;"
   ]
  }
 ],
 "metadata": {
  "kernelspec": {
   "display_name": "Python 3",
   "language": "python",
   "name": "python3"
  }
 },
 "nbformat": 4,
 "nbformat_minor": 5
}
